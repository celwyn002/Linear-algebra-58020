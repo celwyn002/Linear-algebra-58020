{
  "nbformat": 4,
  "nbformat_minor": 0,
  "metadata": {
    "colab": {
      "name": "Practical Lab Exam 1",
      "provenance": [],
      "authorship_tag": "ABX9TyPg6e+WtYXZDTOoGoIMnExi",
      "include_colab_link": true
    },
    "kernelspec": {
      "name": "python3",
      "display_name": "Python 3"
    },
    "language_info": {
      "name": "python"
    }
  },
  "cells": [
    {
      "cell_type": "markdown",
      "metadata": {
        "id": "view-in-github",
        "colab_type": "text"
      },
      "source": [
        "<a href=\"https://colab.research.google.com/github/celwyn002/Linear-algebra-58020/blob/main/Practical_Lab_Exam_1.ipynb\" target=\"_parent\"><img src=\"https://colab.research.google.com/assets/colab-badge.svg\" alt=\"Open In Colab\"/></a>"
      ]
    },
    {
      "cell_type": "code",
      "metadata": {
        "colab": {
          "base_uri": "https://localhost:8080/"
        },
        "id": "G7TgaJGp--AO",
        "outputId": "87a1472c-3879-4ee8-9c53-46b38bb51bf4"
      },
      "source": [
        "import numpy as np\n",
        "\n",
        "W = np.array([[1,-3],[2,-2],[3,1]])\n",
        "print(\"Vector W is\" , W)\n"
      ],
      "execution_count": 76,
      "outputs": [
        {
          "output_type": "stream",
          "name": "stdout",
          "text": [
            "Vector W is [[ 1 -3]\n",
            " [ 2 -2]\n",
            " [ 3  1]]\n"
          ]
        }
      ]
    },
    {
      "cell_type": "code",
      "metadata": {
        "colab": {
          "base_uri": "https://localhost:8080/"
        },
        "id": "jCZIHchURVYp",
        "outputId": "6d5504f3-2c2a-4b09-a05c-98e6af09acfc"
      },
      "source": [
        "import numpy as np\n",
        "\n",
        "Y= np.array([[1,2,0],[0,-1,2]])\n",
        "print(\"Vector Y is\" , Y)\n"
      ],
      "execution_count": 79,
      "outputs": [
        {
          "output_type": "stream",
          "name": "stdout",
          "text": [
            "Vector Y is [[ 1  2  0]\n",
            " [ 0 -1  2]]\n"
          ]
        }
      ]
    },
    {
      "cell_type": "code",
      "metadata": {
        "colab": {
          "base_uri": "https://localhost:8080/"
        },
        "id": "uVJ_UcolVW0Y",
        "outputId": "21c8af94-18f4-4f53-a8b5-2150cf9467ab"
      },
      "source": [
        "print(np.dot(W,Y))"
      ],
      "execution_count": 80,
      "outputs": [
        {
          "output_type": "stream",
          "name": "stdout",
          "text": [
            "[[ 1  5 -6]\n",
            " [ 2  6 -4]\n",
            " [ 3  5  2]]\n"
          ]
        }
      ]
    },
    {
      "cell_type": "code",
      "metadata": {
        "colab": {
          "base_uri": "https://localhost:8080/"
        },
        "id": "D2AfT-VwDksI",
        "outputId": "567183b9-7058-4158-cde9-c57baeec425c"
      },
      "source": [
        "#2 Z+Z\n",
        "Z = np.array([[0,1],[2,3]])\n",
        "Z = np.array([[0,1],[2,3]])\n",
        "print((Z+Z))"
      ],
      "execution_count": 20,
      "outputs": [
        {
          "output_type": "stream",
          "name": "stdout",
          "text": [
            "[[0 2]\n",
            " [4 6]]\n"
          ]
        }
      ]
    },
    {
      "cell_type": "code",
      "metadata": {
        "colab": {
          "base_uri": "https://localhost:8080/"
        },
        "id": "NtHqHIoiFS6K",
        "outputId": "4f71e497-ee09-478a-dde8-5d7944c986cb"
      },
      "source": [
        "#3 3X\n",
        "X = np.array([[[3,2,1],[-1,2,3],[2,-1,1]]])\n",
        "print(\"Vector X is\" , X)\n",
        "print()\n",
        "print(3*X)"
      ],
      "execution_count": 72,
      "outputs": [
        {
          "output_type": "stream",
          "name": "stdout",
          "text": [
            "Vector X is [[[ 3  2  1]\n",
            "  [-1  2  3]\n",
            "  [ 2 -1  1]]]\n",
            "\n",
            "[[[ 9  6  3]\n",
            "  [-3  6  9]\n",
            "  [ 6 -3  3]]]\n"
          ]
        }
      ]
    },
    {
      "cell_type": "code",
      "metadata": {
        "colab": {
          "base_uri": "https://localhost:8080/"
        },
        "id": "jvmPlmH9ZA5m",
        "outputId": "2fda23e8-d7d9-4819-da09-d8e2832892b3"
      },
      "source": [
        "#2A WY-X=\n",
        "Y = np.array([[1,2,0],[0,-1,2]])\n",
        "W = np.array([[1,-3],[2,-2],[3,1]])\n",
        "print(np.dot(Y,W)^2)"
      ],
      "execution_count": 98,
      "outputs": [
        {
          "output_type": "stream",
          "name": "stdout",
          "text": [
            "[[ 7 -5]\n",
            " [ 6  6]]\n"
          ]
        }
      ]
    },
    {
      "cell_type": "code",
      "metadata": {
        "colab": {
          "base_uri": "https://localhost:8080/"
        },
        "id": "3ah4OierZYFE",
        "outputId": "f4df61ec-df43-4648-8cc4-ec1c2b7afdce"
      },
      "source": [
        "W = np.array([[1,-3],[2,-2],[3,1]])\n",
        "Y = np.array([[1,2,0],[0,-1,2]])\n",
        "X = np.array([[[3,2,1],[-1,2,3],[2,-1,1]]])\n",
        "print(np.dot(W,Y)-X)"
      ],
      "execution_count": 103,
      "outputs": [
        {
          "output_type": "stream",
          "name": "stdout",
          "text": [
            "[[[-2  3 -7]\n",
            "  [ 3  4 -7]\n",
            "  [ 1  6  1]]]\n"
          ]
        }
      ]
    },
    {
      "cell_type": "code",
      "metadata": {
        "colab": {
          "base_uri": "https://localhost:8080/"
        },
        "id": "3gr6uFc1Z8Fj",
        "outputId": "2245b4a7-c1c7-4f72-8695-e8584bc0a024"
      },
      "source": [
        "Y = np.array([[1,2,0],[0,-1,2]])\n",
        "W = np.array([[1,-3],[2,-2],[3,1]])\n",
        "Z = np.array([[0,1],[2,3]])\n",
        "print(np.dot(Y,W)-Z^2)"
      ],
      "execution_count": 107,
      "outputs": [
        {
          "output_type": "stream",
          "name": "stdout",
          "text": [
            "[[ 7 -6]\n",
            " [ 0  3]]\n"
          ]
        }
      ]
    },
    {
      "cell_type": "code",
      "metadata": {
        "id": "1VN0bU0Kacrw"
      },
      "source": [
        ""
      ],
      "execution_count": null,
      "outputs": []
    }
  ]
}