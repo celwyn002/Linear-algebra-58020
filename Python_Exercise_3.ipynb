{
  "nbformat": 4,
  "nbformat_minor": 0,
  "metadata": {
    "colab": {
      "name": "Python Exercise 3.ipynb",
      "provenance": [],
      "authorship_tag": "ABX9TyNOpgPoLBuNaKM82xBJgdHA",
      "include_colab_link": true
    },
    "kernelspec": {
      "name": "python3",
      "display_name": "Python 3"
    },
    "language_info": {
      "name": "python"
    }
  },
  "cells": [
    {
      "cell_type": "markdown",
      "metadata": {
        "id": "view-in-github",
        "colab_type": "text"
      },
      "source": [
        "<a href=\"https://colab.research.google.com/github/celwyn002/Linear-algebra-58020/blob/main/Python_Exercise_3.ipynb\" target=\"_parent\"><img src=\"https://colab.research.google.com/assets/colab-badge.svg\" alt=\"Open In Colab\"/></a>"
      ]
    },
    {
      "cell_type": "code",
      "metadata": {
        "id": "HiRypk_fy4aN"
      },
      "source": [
        "import numpy as np\n",
        "A = np.array([[1,1,1],[1,2,2],[1,2,3]])\n",
        "print (A)\n",
        "inv_A=np.linalg.inv(A)\n",
        "print(inv_A)\n",
        "B = np.array([[5],[6],[8]])\n",
        "print ( B )\n",
        "X = np.dot(inv_A,B)\n",
        "print(X)"
      ],
      "execution_count": null,
      "outputs": []
    }
  ]
}