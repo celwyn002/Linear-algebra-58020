{
  "nbformat": 4,
  "nbformat_minor": 0,
  "metadata": {
    "colab": {
      "name": "Demo 2",
      "provenance": [],
      "authorship_tag": "ABX9TyOaGsjHLcrk0gX1s/V1aaNM",
      "include_colab_link": true
    },
    "kernelspec": {
      "name": "python3",
      "display_name": "Python 3"
    },
    "language_info": {
      "name": "python"
    }
  },
  "cells": [
    {
      "cell_type": "markdown",
      "metadata": {
        "id": "view-in-github",
        "colab_type": "text"
      },
      "source": [
        "<a href=\"https://colab.research.google.com/github/celwyn002/Linear-algebra-58020/blob/main/Demo_2.ipynb\" target=\"_parent\"><img src=\"https://colab.research.google.com/assets/colab-badge.svg\" alt=\"Open In Colab\"/></a>"
      ]
    },
    {
      "cell_type": "code",
      "metadata": {
        "colab": {
          "base_uri": "https://localhost:8080/"
        },
        "id": "58yXUdpr2I11",
        "outputId": "8525f950-aae3-4792-cf89-3055026bb720"
      },
      "source": [
        "import numpy as np\n",
        "A = np.array([[4,10,8],[10,26,26],[8,26,26]])\n",
        "print(A)\n",
        "inv_A=np.linalg.inv(A)\n",
        "print(inv_A)\n",
        "B = np.array([[44],[128],[214]])\n",
        "print(B )\n",
        "X = np.dot(inv_A,B)\n",
        "print(X)"
      ],
      "execution_count": 1,
      "outputs": [
        {
          "output_type": "stream",
          "name": "stdout",
          "text": [
            "[[ 4 10  8]\n",
            " [10 26 26]\n",
            " [ 8 26 26]]\n",
            "[[ 0.          0.5        -0.5       ]\n",
            " [ 0.5        -0.38461538  0.23076923]\n",
            " [-0.5         0.23076923 -0.03846154]]\n",
            "[[ 44]\n",
            " [128]\n",
            " [214]]\n",
            "[[-43.        ]\n",
            " [ 22.15384615]\n",
            " [ -0.69230769]]\n"
          ]
        }
      ]
    }
  ]
}