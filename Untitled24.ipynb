{
  "nbformat": 4,
  "nbformat_minor": 0,
  "metadata": {
    "colab": {
      "name": "Untitled24.ipynb",
      "provenance": [],
      "authorship_tag": "ABX9TyN/5KGB9VtxisZjHU2Bxiqi",
      "include_colab_link": true
    },
    "kernelspec": {
      "name": "python3",
      "display_name": "Python 3"
    },
    "language_info": {
      "name": "python"
    }
  },
  "cells": [
    {
      "cell_type": "markdown",
      "metadata": {
        "id": "view-in-github",
        "colab_type": "text"
      },
      "source": [
        "<a href=\"https://colab.research.google.com/github/celwyn002/Linear-algebra-58020/blob/main/Untitled24.ipynb\" target=\"_parent\"><img src=\"https://colab.research.google.com/assets/colab-badge.svg\" alt=\"Open In Colab\"/></a>"
      ]
    },
    {
      "cell_type": "code",
      "source": [
        "import numpy as np \n",
        "A = np.array([[3,-1,1],[9,3,-3],[-12,4,-4]])\n",
        "print(f'Matrix A:\\n {A}')\n",
        "\n",
        "inv_A = np.linalg.pinv(A)\n",
        "print(f'\\nInverse of Matrix A:\\n{inv_A}')\n",
        "\n",
        "B = np.array([[5],[10],[-20]])\n",
        "print(f'Matrix A:\\n {A}')\n",
        "\n",
        "X = np.dot(inv_A, B)\n",
        "print(f'\\nDot product:\\n {X}')\n",
        "\n",
        "C = np.dot(A, X)\n",
        "print(f'\\nChecking:\\n{C}')"
      ],
      "metadata": {
        "colab": {
          "base_uri": "https://localhost:8080/"
        },
        "id": "LdngqI7hW3wX",
        "outputId": "44186750-fa1d-473e-f7e1-0c914d973467"
      },
      "execution_count": null,
      "outputs": [
        {
          "output_type": "stream",
          "name": "stdout",
          "text": [
            "Matrix A:\n",
            " [[  3  -1   1]\n",
            " [  9   3  -3]\n",
            " [-12   4  -4]]\n",
            "\n",
            "Inverse of Matrix A:\n",
            "[[ 0.00980392  0.05555556 -0.03921569]\n",
            " [-0.01470588  0.08333333  0.05882353]\n",
            " [ 0.01470588 -0.08333333 -0.05882353]]\n",
            "Matrix A:\n",
            " [[  3  -1   1]\n",
            " [  9   3  -3]\n",
            " [-12   4  -4]]\n",
            "\n",
            "Dot product:\n",
            " [[ 1.38888889]\n",
            " [-0.41666667]\n",
            " [ 0.41666667]]\n",
            "\n",
            "Checking:\n",
            "[[  5.]\n",
            " [ 10.]\n",
            " [-20.]]\n"
          ]
        }
      ]
    },
    {
      "cell_type": "code",
      "execution_count": null,
      "metadata": {
        "colab": {
          "base_uri": "https://localhost:8080/"
        },
        "id": "Ih15yuxCOex5",
        "outputId": "78eb3792-6f4b-4da5-fc60-f88b03ff78e3"
      },
      "outputs": [
        {
          "output_type": "stream",
          "name": "stdout",
          "text": [
            "[[  8   5  -6]\n",
            " [-12  -9  12]\n",
            " [ -3  -3   5]] \n",
            "\n",
            "The eigenvalues are: \n",
            " [-1.  3.  2.]\n",
            "The eigenvectors are: \n",
            " [[ 0. -1.  1.]\n",
            " [-1.  1.  0.]\n",
            " [-0. -0.  1.]]\n"
          ]
        }
      ],
      "source": [
        "import numpy as np \n",
        "from numpy.linalg import eig \n",
        "\n",
        "A = np.array([[8,5,-6],[-12,-9,12],[-3,-3,5]])\n",
        "print(A,\"\\n\")\n",
        "w,v = np.linalg.eig(A)\n",
        "\n",
        "print(\"The eigenvalues are: \\n\",w)\n",
        "print(\"The eigenvectors are: \\n\",v.round())"
      ]
    }
  ]
}