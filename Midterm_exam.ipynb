{
  "nbformat": 4,
  "nbformat_minor": 0,
  "metadata": {
    "colab": {
      "name": "Midterm exam.ipynb",
      "provenance": [],
      "authorship_tag": "ABX9TyMVkL8M59x7znflbQfs2srp",
      "include_colab_link": true
    },
    "kernelspec": {
      "name": "python3",
      "display_name": "Python 3"
    },
    "language_info": {
      "name": "python"
    }
  },
  "cells": [
    {
      "cell_type": "markdown",
      "metadata": {
        "id": "view-in-github",
        "colab_type": "text"
      },
      "source": [
        "<a href=\"https://colab.research.google.com/github/celwyn002/Linear-algebra-58020/blob/main/Midterm_exam.ipynb\" target=\"_parent\"><img src=\"https://colab.research.google.com/assets/colab-badge.svg\" alt=\"Open In Colab\"/></a>"
      ]
    },
    {
      "cell_type": "code",
      "metadata": {
        "colab": {
          "base_uri": "https://localhost:8080/"
        },
        "id": "Skj3vDTE-BIp",
        "outputId": "21521893-9b86-4af0-df45-b1acfe4b9f04"
      },
      "source": [
        "import numpy as np\n",
        "A = np.array([[12,33,2,5,5],[2,6,7,1,22],[31,15,14,12,15],[14,17,18,15,2],[20,12,26,3,4]])\n",
        "print(A)"
      ],
      "execution_count": 2,
      "outputs": [
        {
          "output_type": "stream",
          "name": "stdout",
          "text": [
            "[[12 33  2  5  5]\n",
            " [ 2  6  7  1 22]\n",
            " [31 15 14 12 15]\n",
            " [14 17 18 15  2]\n",
            " [20 12 26  3  4]]\n"
          ]
        }
      ]
    },
    {
      "cell_type": "code",
      "metadata": {
        "colab": {
          "base_uri": "https://localhost:8080/"
        },
        "id": "pzU16YY9BJ_c",
        "outputId": "588a0eaa-89fb-4a18-dd98-5e082a85d9d3"
      },
      "source": [
        "import numpy as np \n",
        "A = np.array([[1,1,1,1],[0,1,1,1],[0,0,1,1],[0,0,0,1]])\n",
        "print(A)\n"
      ],
      "execution_count": 4,
      "outputs": [
        {
          "output_type": "stream",
          "name": "stdout",
          "text": [
            "[[1 1 1 1]\n",
            " [0 1 1 1]\n",
            " [0 0 1 1]\n",
            " [0 0 0 1]]\n"
          ]
        }
      ]
    },
    {
      "cell_type": "code",
      "metadata": {
        "colab": {
          "base_uri": "https://localhost:8080/"
        },
        "id": "gS2k4ZKNGho5",
        "outputId": "6bbdbfa7-d89c-4275-e076-9d04bd3b215d"
      },
      "source": [
        "import numpy as np\n",
        "\n",
        "A =np.array([[6,1,6],[1,5,2],[6,2,7]])\n",
        "print(A)\n",
        "print(\"/n\")\n",
        "#prints transpose matrix\n",
        "\n",
        "print(np.transpose(A))"
      ],
      "execution_count": 7,
      "outputs": [
        {
          "output_type": "stream",
          "name": "stdout",
          "text": [
            "[[6 1 6]\n",
            " [1 5 2]\n",
            " [6 2 7]]\n",
            "/n\n",
            "[[6 1 6]\n",
            " [1 5 2]\n",
            " [6 2 7]]\n"
          ]
        }
      ]
    },
    {
      "cell_type": "code",
      "metadata": {
        "colab": {
          "base_uri": "https://localhost:8080/"
        },
        "id": "MudSHVkH_gUr",
        "outputId": "8df57316-d60a-4d28-f695-ba60f9cb450b"
      },
      "source": [
        "A=np.array(([[1,2,3],[2,3,3],[3,4,-2]]))\n",
        "B=(np.linalg.inv(A))\n",
        "print(B)"
      ],
      "execution_count": 3,
      "outputs": [
        {
          "output_type": "stream",
          "name": "stdout",
          "text": [
            "[[-3.6  3.2 -0.6]\n",
            " [ 2.6 -2.2  0.6]\n",
            " [-0.2  0.4 -0.2]]\n"
          ]
        }
      ]
    },
    {
      "cell_type": "code",
      "metadata": {
        "colab": {
          "base_uri": "https://localhost:8080/"
        },
        "id": "Qnl4ZWKLDYmC",
        "outputId": "db8557b4-fd79-498c-ef98-252e23cc1a3c"
      },
      "source": [
        "import numpy as np\n",
        "A = np.array([[1,2,3],[2,3,3],[3,4,-2]])\n",
        "print(A)\n",
        "print(np.linalg.det(A))\n",
        "print(round(np.linalg.det(A)))\n"
      ],
      "execution_count": 6,
      "outputs": [
        {
          "output_type": "stream",
          "name": "stdout",
          "text": [
            "[[ 1  2  3]\n",
            " [ 2  3  3]\n",
            " [ 3  4 -2]]\n",
            "5.000000000000001\n",
            "5\n"
          ]
        }
      ]
    },
    {
      "cell_type": "code",
      "metadata": {
        "colab": {
          "base_uri": "https://localhost:8080/"
        },
        "id": "N7B6wkh_DpVU",
        "outputId": "a77b17a4-85fc-4cd4-bb61-9b161b6e30e9"
      },
      "source": [
        "import numpy as np \n",
        "\n",
        "c = np.array([[5, 4, 1], [10, 9, 4],[10, 13, 15]])\n",
        "inv_c = np.linalg.inv(c)\n",
        "print(c)\n",
        "print()\n",
        "print(inv_c)\n",
        "\n",
        "d = np.array([[3.4], [8.8], [19.2]])\n",
        "\n",
        "x = np.dot(inv_c, d)\n",
        "print(\"roots =\")\n",
        "print(x)\n",
        "\n",
        "z = np.dot(c, x) #checking\n",
        "print(\"checking =\")\n",
        "print(z)"
      ],
      "execution_count": 5,
      "outputs": [
        {
          "output_type": "stream",
          "name": "stdout",
          "text": [
            "[[ 5  4  1]\n",
            " [10  9  4]\n",
            " [10 13 15]]\n",
            "\n",
            "[[ 5.53333333 -3.13333333  0.46666667]\n",
            " [-7.33333333  4.33333333 -0.66666667]\n",
            " [ 2.66666667 -1.66666667  0.33333333]]\n",
            "roots =\n",
            "[[0.2]\n",
            " [0.4]\n",
            " [0.8]]\n",
            "checking =\n",
            "[[ 3.4]\n",
            " [ 8.8]\n",
            " [19.2]]\n"
          ]
        }
      ]
    }
  ]
}