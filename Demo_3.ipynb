{
  "nbformat": 4,
  "nbformat_minor": 0,
  "metadata": {
    "colab": {
      "name": "Demo 3.ipynb",
      "provenance": [],
      "include_colab_link": true
    },
    "kernelspec": {
      "name": "python3",
      "display_name": "Python 3"
    },
    "language_info": {
      "name": "python"
    }
  },
  "cells": [
    {
      "cell_type": "markdown",
      "metadata": {
        "id": "view-in-github",
        "colab_type": "text"
      },
      "source": [
        "<a href=\"https://colab.research.google.com/github/celwyn002/Linear-algebra-58020/blob/main/Demo_3.ipynb\" target=\"_parent\"><img src=\"https://colab.research.google.com/assets/colab-badge.svg\" alt=\"Open In Colab\"/></a>"
      ]
    },
    {
      "cell_type": "code",
      "execution_count": null,
      "metadata": {
        "colab": {
          "base_uri": "https://localhost:8080/"
        },
        "id": "npGdU6bUj8Fo",
        "outputId": "0bd8d7ca-1aed-451a-99fd-19ab00ca5344"
      },
      "outputs": [
        {
          "output_type": "stream",
          "name": "stdout",
          "text": [
            "[[  5   2]\n",
            " [  4 -11]]\n",
            "[[ 6]\n",
            " [21]]\n",
            "[[ 1.71428571]\n",
            " [-1.28571429]]\n"
          ]
        }
      ],
      "source": [
        "import numpy as np\n",
        "from scipy.linalg import solve\n",
        "\n",
        "A = np.array([[5,2],[4,-11]])\n",
        "print(A)\n",
        "B = np.array([[6],[21]])\n",
        "print(B)\n",
        "\n",
        "X = np.linalg.inv(A).dot(B)\n",
        "print(X)"
      ]
    },
    {
      "cell_type": "code",
      "source": [
        "import numpy as np\n",
        "inv_A = np.linalg.inv(A)\n",
        "print(inv_A)\n",
        "\n",
        "X = np.dot(inv_A,B)\n",
        "print(X)"
      ],
      "metadata": {
        "colab": {
          "base_uri": "https://localhost:8080/"
        },
        "id": "yxakyyuOkRU9",
        "outputId": "e202eb28-684a-42d8-b83e-8691e2bda744"
      },
      "execution_count": null,
      "outputs": [
        {
          "output_type": "stream",
          "name": "stdout",
          "text": [
            "[[ 0.17460317  0.03174603]\n",
            " [ 0.06349206 -0.07936508]]\n",
            "[[ 1.71428571]\n",
            " [-1.28571429]]\n"
          ]
        }
      ]
    },
    {
      "cell_type": "code",
      "source": [
        "X = np.linalg.solve(A,B)\n",
        "print(X)"
      ],
      "metadata": {
        "colab": {
          "base_uri": "https://localhost:8080/"
        },
        "id": "hLjYYLhRkiKY",
        "outputId": "12b2e1ab-1287-467e-8716-1fc845924363"
      },
      "execution_count": null,
      "outputs": [
        {
          "output_type": "stream",
          "name": "stdout",
          "text": [
            "[[ 1.71428571]\n",
            " [-1.28571429]]\n"
          ]
        }
      ]
    },
    {
      "cell_type": "code",
      "source": [
        "from scipy.linalg import solve\n",
        "X = solve(A,B)\n",
        "print(X)"
      ],
      "metadata": {
        "colab": {
          "base_uri": "https://localhost:8080/"
        },
        "id": "TlvVediIknM4",
        "outputId": "8d07191e-42c4-4cff-f668-1b0befa65217"
      },
      "execution_count": null,
      "outputs": [
        {
          "output_type": "stream",
          "name": "stdout",
          "text": [
            "[[ 1.71428571]\n",
            " [-1.28571429]]\n"
          ]
        }
      ]
    }
  ]
}