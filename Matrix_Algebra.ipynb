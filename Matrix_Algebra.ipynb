{
  "nbformat": 4,
  "nbformat_minor": 0,
  "metadata": {
    "colab": {
      "name": "Matrix Algebra",
      "provenance": [],
      "authorship_tag": "ABX9TyOeBnWFlQrz+vNsdnBCNkwq",
      "include_colab_link": true
    },
    "kernelspec": {
      "name": "python3",
      "display_name": "Python 3"
    },
    "language_info": {
      "name": "python"
    }
  },
  "cells": [
    {
      "cell_type": "markdown",
      "metadata": {
        "id": "view-in-github",
        "colab_type": "text"
      },
      "source": [
        "<a href=\"https://colab.research.google.com/github/celwyn002/Linear-algebra-58020/blob/main/Matrix_Algebra.ipynb\" target=\"_parent\"><img src=\"https://colab.research.google.com/assets/colab-badge.svg\" alt=\"Open In Colab\"/></a>"
      ]
    },
    {
      "cell_type": "code",
      "metadata": {
        "colab": {
          "base_uri": "https://localhost:8080/"
        },
        "id": "M3z6O8RtlIKi",
        "outputId": "ea5354c5-48f3-46a7-c68c-3e8f99b53b1f"
      },
      "source": [
        "import numpy as np\n",
        "\n",
        "A = np.array([[[2,3,4],[1,5,6],[8,9,1]]])\n",
        "B = (np.linalg.inv(A))\n",
        "print(B)\n",
        "\n"
      ],
      "execution_count": 6,
      "outputs": [
        {
          "output_type": "stream",
          "name": "stdout",
          "text": [
            "[[[ 0.60493827 -0.40740741  0.02469136]\n",
            "  [-0.58024691  0.37037037  0.09876543]\n",
            "  [ 0.38271605 -0.07407407 -0.08641975]]]\n"
          ]
        }
      ]
    },
    {
      "cell_type": "code",
      "metadata": {
        "colab": {
          "base_uri": "https://localhost:8080/"
        },
        "id": "Hjejrnqwn0WP",
        "outputId": "2ef32fed-e359-4dec-f8d2-2cb983be39cf"
      },
      "source": [
        "A = np.array([[2,3,4],[1,5,6],[8,9,1]])\n",
        "print(A)\n",
        "B = np.transpose(A)\n",
        "print(B)\n"
      ],
      "execution_count": 8,
      "outputs": [
        {
          "output_type": "stream",
          "name": "stdout",
          "text": [
            "[[2 3 4]\n",
            " [1 5 6]\n",
            " [8 9 1]]\n",
            "[[2 1 8]\n",
            " [3 5 9]\n",
            " [4 6 1]]\n"
          ]
        }
      ]
    }
  ]
}