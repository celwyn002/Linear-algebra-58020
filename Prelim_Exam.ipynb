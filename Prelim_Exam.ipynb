{
  "nbformat": 4,
  "nbformat_minor": 0,
  "metadata": {
    "colab": {
      "name": "Prelim Exam",
      "provenance": [],
      "authorship_tag": "ABX9TyPoJzCFuTwig9HykPzgI8cl",
      "include_colab_link": true
    },
    "kernelspec": {
      "name": "python3",
      "display_name": "Python 3"
    },
    "language_info": {
      "name": "python"
    }
  },
  "cells": [
    {
      "cell_type": "markdown",
      "metadata": {
        "id": "view-in-github",
        "colab_type": "text"
      },
      "source": [
        "<a href=\"https://colab.research.google.com/github/celwyn002/Linear-algebra-58020/blob/main/Prelim_Exam.ipynb\" target=\"_parent\"><img src=\"https://colab.research.google.com/assets/colab-badge.svg\" alt=\"Open In Colab\"/></a>"
      ]
    },
    {
      "cell_type": "code",
      "metadata": {
        "colab": {
          "base_uri": "https://localhost:8080/"
        },
        "id": "MSsDVLvkqfPj",
        "outputId": "dbb2fefd-25bb-4b29-fa8c-2bc66b8e7107"
      },
      "source": [
        "import numpy as np \n",
        "C = np.zeros((4 ,4))#4 x 4 matrix \n",
        "np.fill_diagonal(C, 1 )#diagonal elements are all one (1's)\n",
        "print(C)"
      ],
      "execution_count": 2,
      "outputs": [
        {
          "output_type": "stream",
          "name": "stdout",
          "text": [
            "[[1. 0. 0. 0.]\n",
            " [0. 1. 0. 0.]\n",
            " [0. 0. 1. 0.]\n",
            " [0. 0. 0. 1.]]\n"
          ]
        }
      ]
    },
    {
      "cell_type": "code",
      "metadata": {
        "colab": {
          "base_uri": "https://localhost:8080/"
        },
        "id": "y5XuSZJ6qzuE",
        "outputId": "f4342019-66ea-4d2c-ad88-be752ba3981f"
      },
      "source": [
        "C = np.zeros((4 ,4))#4 x 4 matrix \n",
        "np.fill_diagonal(C, 1 )#diagonal elements are all one (1's)\n",
        "print(\"c= \")\n",
        "print(C)\n",
        "print(\"Doubled: \")# double all the values\n",
        "print(2*C)"
      ],
      "execution_count": 5,
      "outputs": [
        {
          "output_type": "stream",
          "name": "stdout",
          "text": [
            "c= \n",
            "[[1. 0. 0. 0.]\n",
            " [0. 1. 0. 0.]\n",
            " [0. 0. 1. 0.]\n",
            " [0. 0. 0. 1.]]\n",
            "Doubled: \n",
            "[[2. 0. 0. 0.]\n",
            " [0. 2. 0. 0.]\n",
            " [0. 0. 2. 0.]\n",
            " [0. 0. 0. 2.]]\n"
          ]
        }
      ]
    },
    {
      "cell_type": "code",
      "metadata": {
        "colab": {
          "base_uri": "https://localhost:8080/"
        },
        "id": "TaRBxo33rV_A",
        "outputId": "908f81ab-9dff-4534-d2a3-3ac7a99b8daf"
      },
      "source": [
        "# cross-product of matrices\n",
        "A = np.array ([2,7,4])\n",
        "B = np.array ([3,9,8])\n",
        "np.cross(A,B)"
      ],
      "execution_count": 7,
      "outputs": [
        {
          "output_type": "execute_result",
          "data": {
            "text/plain": [
              "array([20, -4, -3])"
            ]
          },
          "metadata": {},
          "execution_count": 7
        }
      ]
    }
  ]
}